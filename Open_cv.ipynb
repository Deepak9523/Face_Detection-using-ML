{
 "cells": [
  {
   "cell_type": "code",
   "execution_count": 1,
   "metadata": {},
   "outputs": [
    {
     "name": "stdout",
     "output_type": "stream",
     "text": [
      "Requirement already satisfied: opencv-python in c:\\users\\dell\\appdata\\local\\programs\\python\\python311\\lib\\site-packages (4.7.0.72)Note: you may need to restart the kernel to use updated packages.\n",
      "\n",
      "Requirement already satisfied: numpy>=1.21.2 in c:\\users\\dell\\appdata\\local\\programs\\python\\python311\\lib\\site-packages (from opencv-python) (1.24.2)\n"
     ]
    },
    {
     "name": "stderr",
     "output_type": "stream",
     "text": [
      "\n",
      "[notice] A new release of pip available: 22.3.1 -> 23.0.1\n",
      "[notice] To update, run: python.exe -m pip install --upgrade pip\n"
     ]
    }
   ],
   "source": [
    "pip install opencv-python\n"
   ]
  },
  {
   "cell_type": "code",
   "execution_count": 2,
   "metadata": {},
   "outputs": [],
   "source": [
    "import cv2"
   ]
  },
  {
   "cell_type": "code",
   "execution_count": 3,
   "metadata": {},
   "outputs": [],
   "source": [
    "img=cv2.imread(\"dhoni.jpg\")\n",
    "cv2.imshow(\"Image\",img)\n",
    "cv2.waitKey()\n",
    "cv2.destroyWindow(\"Image\")"
   ]
  },
  {
   "cell_type": "code",
   "execution_count": 4,
   "metadata": {},
   "outputs": [],
   "source": [
    "img=cv2.imread(\"dhoni.jpg\",0)\n",
    "cv2.imshow(\"Image\",img)\n",
    "cv2.waitKey()\n",
    "cv2.destroyWindow(\"Image\")"
   ]
  },
  {
   "cell_type": "code",
   "execution_count": 5,
   "metadata": {},
   "outputs": [],
   "source": [
    "img1=cv2.imread(\"sachin.webp\")\n",
    "cv2.imshow(\"Image\",img)\n",
    "cv2.waitKey()\n",
    "cv2.destroyWindow(\"Image\")"
   ]
  },
  {
   "cell_type": "code",
   "execution_count": 6,
   "metadata": {},
   "outputs": [
    {
     "name": "stdout",
     "output_type": "stream",
     "text": [
      "[[143 145 146 ... 121 123 123]\n",
      " [145 146 148 ... 121 120 120]\n",
      " [147 148 149 ... 122 120 120]\n",
      " ...\n",
      " [133 130 126 ... 106 103 103]\n",
      " [131 130 128 ... 101  99  99]\n",
      " [131 130 128 ...  99  88  88]]\n"
     ]
    }
   ],
   "source": [
    "print(img)"
   ]
  },
  {
   "cell_type": "code",
   "execution_count": 7,
   "metadata": {},
   "outputs": [
    {
     "data": {
      "text/plain": [
       "286308"
      ]
     },
     "execution_count": 7,
     "metadata": {},
     "output_type": "execute_result"
    }
   ],
   "source": [
    "len(img.flatten())"
   ]
  },
  {
   "cell_type": "code",
   "execution_count": 8,
   "metadata": {},
   "outputs": [
    {
     "data": {
      "text/plain": [
       "110592"
      ]
     },
     "execution_count": 8,
     "metadata": {},
     "output_type": "execute_result"
    }
   ],
   "source": [
    "len(img1.flatten())"
   ]
  },
  {
   "cell_type": "code",
   "execution_count": 9,
   "metadata": {},
   "outputs": [],
   "source": [
    "img=cv2.imread(\"dhoni.jpg\",0)\n",
    "cv2.imshow(\"window2\",img)\n",
    "cv2.waitKey()\n",
    "cv2.destroyWindow(\"window2\")"
   ]
  },
  {
   "cell_type": "code",
   "execution_count": 10,
   "metadata": {},
   "outputs": [],
   "source": [
    "img=cv2.imread(\"dhoni.jpg\",1)\n",
    "cv2.imshow(\"window2\",img)\n",
    "cv2.waitKey()\n",
    "cv2.destroyWindow(\"window2\")"
   ]
  },
  {
   "cell_type": "code",
   "execution_count": 11,
   "metadata": {},
   "outputs": [],
   "source": [
    "img=cv2.imread(\"dhoni.jpg\")\n",
    "img2=cv2.cvtColor(img,cv2.COLOR_BGR2GRAY)\n",
    "cv2.imshow(\"window2\",img)\n",
    "cv2.waitKey()\n",
    "cv2.destroyWindow(\"window2\")"
   ]
  },
  {
   "cell_type": "code",
   "execution_count": 13,
   "metadata": {},
   "outputs": [],
   "source": [
    "img=cv2.imread(\"dhoni.jpg\")\n",
    "img2=cv2.cvtColor(img,cv2.COLOR_BGR2GRAY)\n",
    "cv2.imshow(\"window2\",img2)\n",
    "cv2.imshow(\"window3\",img)\n",
    "cv2.waitKey()\n",
    "cv2.destroyAllWindows()"
   ]
  },
  {
   "cell_type": "code",
   "execution_count": 14,
   "metadata": {},
   "outputs": [],
   "source": [
    "img=cv2.imread(\"dhoni.jpg\")\n",
    "img2=cv2.resize(img,(300,200))\n",
    "cv2.imshow(\"window2\",img2)\n",
    "cv2.imshow(\"window3\",img)\n",
    "cv2.waitKey()\n",
    "cv2.destroyAllWindows()"
   ]
  },
  {
   "cell_type": "code",
   "execution_count": 15,
   "metadata": {},
   "outputs": [],
   "source": [
    "img=cv2.imread(\"dhoni.jpg\")\n",
    "img2=cv2.resize(img,(400,400))\n",
    "cv2.imshow(\"window2\",img2)\n",
    "cv2.imshow(\"window3\",img)\n",
    "cv2.waitKey()\n",
    "cv2.destroyAllWindows()"
   ]
  },
  {
   "cell_type": "code",
   "execution_count": 19,
   "metadata": {},
   "outputs": [],
   "source": [
    "img=cv2.imread(\"dhoni.jpg\")\n",
    "img=cv2.blur(img,ksize=(10,30))\n",
    "\n",
    "cv2.imshow(\"window3\",img)\n",
    "cv2.waitKey()\n",
    "cv2.destroyAllWindows()"
   ]
  },
  {
   "cell_type": "code",
   "execution_count": 20,
   "metadata": {},
   "outputs": [],
   "source": [
    "img=cv2.imread(\"dhoni.jpg\")\n",
    "img=cv2.convertScaleAbs(img,alpha=1,beta=100)\n",
    "\n",
    "cv2.imshow(\"window3\",img)\n",
    "cv2.waitKey()\n",
    "cv2.destroyAllWindows()"
   ]
  },
  {
   "cell_type": "code",
   "execution_count": 22,
   "metadata": {},
   "outputs": [],
   "source": [
    "img=cv2.imread(\"dhoni.jpg\")\n",
    "img1=cv2.flip(img,0)\n",
    "cv2.imshow(\"window\",img)\n",
    "cv2.imshow(\"window3\",img1)\n",
    "cv2.waitKey()\n",
    "cv2.destroyAllWindows()"
   ]
  },
  {
   "cell_type": "code",
   "execution_count": 23,
   "metadata": {},
   "outputs": [],
   "source": [
    "img=cv2.imread(\"dhoni.jpg\")\n",
    "img1=cv2.flip(img,-1)\n",
    "cv2.imshow(\"window\",img)\n",
    "cv2.imshow(\"window3\",img1)\n",
    "cv2.waitKey()\n",
    "cv2.destroyAllWindows()"
   ]
  },
  {
   "cell_type": "code",
   "execution_count": 27,
   "metadata": {},
   "outputs": [],
   "source": [
    "img=cv2.imread(\"dhoni.jpg\")\n",
    "blue,green,red=cv2.split(img)\n",
    "cv2.imshow(\"blue\",blue)\n",
    "cv2.imshow(\"green\",green)\n",
    "cv2.imshow(\"red\",red)\n",
    "cv2.waitKey()\n",
    "cv2.destroyAllWindows()"
   ]
  },
  {
   "cell_type": "code",
   "execution_count": 28,
   "metadata": {},
   "outputs": [
    {
     "name": "stdout",
     "output_type": "stream",
     "text": [
      "13\n"
     ]
    }
   ],
   "source": [
    "img=cv2.imread(\"dhoni.jpg\")\n",
    "blue,green,red=cv2.split(img)\n",
    "cv2.imshow(\"blue\",blue)\n",
    "cv2.imshow(\"green\",green)\n",
    "cv2.imshow(\"red\",red)\n",
    "key=cv2.waitKey()\n",
    "print(key)\n",
    "cv2.destroyAllWindows()"
   ]
  },
  {
   "cell_type": "code",
   "execution_count": 30,
   "metadata": {},
   "outputs": [],
   "source": [
    "img=cv2.imread(\"dhoni.jpg\")\n",
    "cv2.putText(img,\"Dhoni\",(20,50),cv2.FONT_HERSHEY_SIMPLEX,2,(0,0,255),10)\n",
    "cv2.rectangle(img,(50,25),(350,300),(0,255,0),2)\n",
    "cv2.imshow(\"wind\",img)\n",
    "\n",
    "cv2.waitKey()\n",
    "cv2.destroyAllWindows()"
   ]
  },
  {
   "cell_type": "code",
   "execution_count": 1,
   "metadata": {},
   "outputs": [],
   "source": [
    "import cv2"
   ]
  },
  {
   "cell_type": "code",
   "execution_count": 3,
   "metadata": {},
   "outputs": [],
   "source": [
    "img=cv2.imread(\"dhoni.jpg\")\n",
    "cv2.putText(img,\"Dhoni\",(10,20),cv2.FONT_HERSHEY_SIMPLEX,2,(0,0,255),10)\n",
    "cv2.rectangle(img,(50,25),(350,300),(0,255,0),2)\n",
    "cv2.imshow(\"wind\",img)\n",
    "\n",
    "cv2.waitKey()\n",
    "cv2.destroyAllWindows()"
   ]
  },
  {
   "cell_type": "code",
   "execution_count": 7,
   "metadata": {},
   "outputs": [],
   "source": [
    "img=cv2.imread(\"group1.jpg\")\n",
    "model=cv2.CascadeClassifier(\"trained model\\haarcascade_frontalface_alt.xml\")\n",
    "faces=model.detectMultiScale(img,minNeighbors=7,minSize=(10,10),scaleFactor=1.1)\n",
    "for x,y,w,h in faces:\n",
    "    cv2.rectangle(img,(x,y,w,h),(0,255,0),2)\n",
    "    face=img2[y:y+h,x:x+w]\n",
    "cv2.imshow(\"Wind\",img)\n",
    "cv2.waitKey()\n",
    "cv2.destroyAllWindows()\n"
   ]
  },
  {
   "cell_type": "code",
   "execution_count": 8,
   "metadata": {},
   "outputs": [],
   "source": [
    "img=cv2.imread(\"group1.jpg\",0)\n",
    "model=cv2.CascadeClassifier(\"trained model\\haarcascade_frontalface_alt.xml\")\n",
    "faces=model.detectMultiScale(img,minNeighbors=7,minSize=(10,10),scaleFactor=1.1)\n",
    "for x,y,w,h in faces:\n",
    "    cv2.rectangle(img,(x,y,w,h),(0,255,0),2)\n",
    "    face=img2[y:y+h,x:x+w]\n",
    "cv2.imshow(\"Wind\",img)\n",
    "cv2.waitKey()\n",
    "cv2.destroyAllWindows()\n"
   ]
  },
  {
   "cell_type": "code",
   "execution_count": 9,
   "metadata": {},
   "outputs": [],
   "source": [
    "model=cv2.CascadeClassifier(\"trained model\\haarcascade_frontalface_alt.xml\")\n",
    "model_eye=cv2.CascadeClassifier(\"trained model\\haarcascade_eye.xml\")\n",
    "img=cv2.imread(\"group1.jpg\")\n",
    "img2=cv2.cvtColor(img,cv2.COLOR_BGR2GRAY)\n",
    "faces=model.detectMultiScale(img,minNeighbors=7,minSize=(10,10),scaleFactor=1.1)\n",
    "eye=model_eye.detectMultiScale(img2)\n",
    "for x,y,w,h in faces:\n",
    "    cv2.rectangle(img,(x,y,w,h),(0,255,0),2)\n",
    "    face=img2[y:y+h,x:x+w]\n",
    "    eye=model_eye.detectMultiScale(face)\n",
    "    for ex,ey,eh,ew in eye:\n",
    "        cv2.rectangle(img,(x+ex,y+ey,ew,eh),(0,0,255),2)\n",
    "cv2.imshow(\"Wind\",img)\n",
    "cv2.waitKey()\n",
    "cv2.destroyAllWindows()\n"
   ]
  },
  {
   "cell_type": "code",
   "execution_count": 11,
   "metadata": {},
   "outputs": [],
   "source": [
    "model=cv2.CascadeClassifier(\"trained model\\haarcascade_frontalface_alt.xml\")\n",
    "model_eye=cv2.CascadeClassifier(\"trained model\\haarcascade_eye.xml\")\n",
    "img=cv2.imread(\"group1.jpg\",0)\n",
    "#img2=cv2.cvtColor(img,cv2.COLOR_BGR2GRAY)\n",
    "faces=model.detectMultiScale(img,minNeighbors=7,minSize=(10,10),scaleFactor=1.1)\n",
    "eye=model_eye.detectMultiScale(img2)\n",
    "for x,y,w,h in faces:\n",
    "    cv2.rectangle(img,(x,y,w,h),(0,255,0),2)\n",
    "    face=img2[y:y+h,x:x+w]\n",
    "    eye=model_eye.detectMultiScale(face)\n",
    "    for ex,ey,eh,ew in eye:\n",
    "        cv2.rectangle(img,(x+ex,y+ey,ew,eh),(0,0,255),2)\n",
    "cv2.imshow(\"Wind\",img)\n",
    "cv2.waitKey()\n",
    "cv2.destroyAllWindows()\n"
   ]
  },
  {
   "cell_type": "code",
   "execution_count": 22,
   "metadata": {},
   "outputs": [],
   "source": [
    "model=cv2.CascadeClassifier(\"trained model\\haarcascade_frontalface_alt.xml\")\n",
    "model_eye=cv2.CascadeClassifier(\"trained model\\haarcascade_eye.xml\")\n",
    "img=cv2.imread(\"group1.jpg\")\n",
    "img2=cv2.cvtColor(img,cv2.COLOR_BGR2GRAY)\n",
    "faces=model.detectMultiScale(img,minNeighbors=7,minSize=(10,10),scaleFactor=1.1)\n",
    "\n",
    "for x,y,w,h in faces:\n",
    "    cv2.rectangle(img,(x,y,w,h),(0,255,0),2)\n",
    "    #face=img2[y:y+h,x:x+w]\n",
    "\n",
    "    img3=img2[y:y+h,x:x+w]\n",
    "    eye=model_eye.detectMultiScale(img3)\n",
    "    \n",
    "    for ex,ey,eh,ew in eye:\n",
    "        cv2.rectangle(img,(x+ex,y+ey,ew,eh),(0,0,255),2)\n",
    "cv2.imshow(\"Wind\",img)\n",
    "cv2.waitKey()\n",
    "cv2.destroyAllWindows()\n"
   ]
  },
  {
   "cell_type": "code",
   "execution_count": 19,
   "metadata": {},
   "outputs": [
    {
     "data": {
      "text/plain": [
       "<function VideoCapture.release>"
      ]
     },
     "execution_count": 19,
     "metadata": {},
     "output_type": "execute_result"
    }
   ],
   "source": [
    "import cv2\n",
    "video=cv2.VideoCapture(0)\n",
    "\n",
    "while True:\n",
    "    flag,img=video.read()  # if img exist then flag value will be True else flag value will be false\n",
    "    if flag==False:\n",
    "        break\n",
    "    model_face=cv2.CascadeClassifier(\"trained model/haarcascade_frontalface_alt.xml\")\n",
    "    Model_eye=cv2.CascadeClassifier(\"trained model\\haarcascade_eye.xml\")\n",
    "    img2=cv2.cvtColor(img,cv2.COLOR_BGR2GRAY)\n",
    "    face=model_face.detectMultiScale(img2,minNeighbors=14)\n",
    "    cv2.putText(img,text=\"Press 'c' to stop\",org=(10,20),fontFace=cv2.FONT_HERSHEY_COMPLEX,fontScale=1,color=(0,0,255),thickness=3)\n",
    "    for x,y,w,h in face:\n",
    "        cv2.rectangle(img,(x,y,w,h),(0,255,0),2)\n",
    "\n",
    "        img3=img2[y:y+h,x:x+h]\n",
    "        eye=Model_eye.detectMultiScale(img3)\n",
    "        for ex,ey,ew,eh in eye:\n",
    "            cv2.rectangle(img,(x+ex,y+ey,ew,eh),(0,255,0),2)\n",
    "    cv2.imshow(\"wind\",img)\n",
    "    key=cv2.waitKey(50)\n",
    "    if key==ord('c'):\n",
    "        break\n",
    "cv2.destroyAllWindows()\n",
    "video.release\n",
    "\n"
   ]
  },
  {
   "cell_type": "code",
   "execution_count": 9,
   "metadata": {},
   "outputs": [
    {
     "name": "stdout",
     "output_type": "stream",
     "text": [
      "Collecting pytube\n",
      "  Downloading pytube-12.1.3-py3-none-any.whl (57 kB)\n",
      "     -------------------------------------- 57.2/57.2 kB 757.3 kB/s eta 0:00:00\n",
      "Installing collected packages: pytube\n",
      "Successfully installed pytube-12.1.3\n",
      "Note: you may need to restart the kernel to use updated packages.\n"
     ]
    },
    {
     "name": "stderr",
     "output_type": "stream",
     "text": [
      "\n",
      "[notice] A new release of pip available: 22.3.1 -> 23.0.1\n",
      "[notice] To update, run: python.exe -m pip install --upgrade pip\n"
     ]
    }
   ],
   "source": [
    "pip install pytube"
   ]
  },
  {
   "cell_type": "code",
   "execution_count": 7,
   "metadata": {},
   "outputs": [
    {
     "data": {
      "text/plain": [
       "<function VideoCapture.release>"
      ]
     },
     "execution_count": 7,
     "metadata": {},
     "output_type": "execute_result"
    }
   ],
   "source": [
    "import cv2\n",
    "video=cv2.VideoCapture(\"Pawan Singh Tumhare Siva (Video)  Khushboo J  Swati C  Nikhil Vinay Basahi  Faaiz A Sameer.mp4\")\n",
    "\n",
    "while True:\n",
    "    flag,img=video.read()  # if img exist then flag value will be True else flag value will be false\n",
    "    if flag==False:\n",
    "        break\n",
    "    model_face=cv2.CascadeClassifier(\"trained model/haarcascade_frontalface_alt.xml\")\n",
    "    Model_eye=cv2.CascadeClassifier(\"trained model\\haarcascade_eye.xml\")\n",
    "    img2=cv2.cvtColor(img,cv2.COLOR_BGR2GRAY)\n",
    "    face=model_face.detectMultiScale(img2,minNeighbors=14)\n",
    "    cv2.putText(img,text=\"Press 'c' to stop\",org=(10,20),fontFace=cv2.FONT_HERSHEY_COMPLEX,fontScale=1,color=(0,0,255),thickness=3)\n",
    "    for x,y,w,h in face:\n",
    "        cv2.rectangle(img,(x,y,w,h),(0,255,0),2)\n",
    "\n",
    "        img3=img2[y:y+h,x:x+h]\n",
    "        eye=Model_eye.detectMultiScale(img3)\n",
    "        for ex,ey,ew,eh in eye:\n",
    "            cv2.rectangle(img,(x+ex,y+ey,ew,eh),(0,255,0),2)\n",
    "    cv2.imshow(\"wind\",img)\n",
    "    key=cv2.waitKey(50)\n",
    "    if key==ord('c'):\n",
    "        break\n",
    "cv2.destroyAllWindows()\n",
    "video.release\n",
    "\n"
   ]
  },
  {
   "cell_type": "code",
   "execution_count": 9,
   "metadata": {},
   "outputs": [
    {
     "data": {
      "text/plain": [
       "<function VideoCapture.release>"
      ]
     },
     "execution_count": 9,
     "metadata": {},
     "output_type": "execute_result"
    }
   ],
   "source": [
    "import cv2\n",
    "video=cv2.VideoCapture(\"Rooh e Daari (Official Video)  Altamash Faridi  Rohit Kumar  Karan Mehra  Sana Sultaan.mp4\")\n",
    "\n",
    "while True:\n",
    "    flag,img=video.read()  # if img exist then flag value will be True else flag value will be false\n",
    "    if flag==False:\n",
    "        break\n",
    "    model_face=cv2.CascadeClassifier(\"trained model/haarcascade_frontalface_alt.xml\")\n",
    "    Model_eye=cv2.CascadeClassifier(\"trained model\\haarcascade_eye.xml\")\n",
    "    img2=cv2.cvtColor(img,cv2.COLOR_BGR2GRAY)\n",
    "    face=model_face.detectMultiScale(img2,minNeighbors=14)\n",
    "    cv2.putText(img,text=\"Press 'd' to stop\",org=(10,20),fontFace=cv2.FONT_HERSHEY_COMPLEX,fontScale=1,color=(0,0,255),thickness=3)\n",
    "    for x,y,w,h in face:\n",
    "        cv2.rectangle(img,(x,y,w,h),(0,255,0),2)\n",
    "\n",
    "        img3=img2[y:y+h,x:x+h]\n",
    "        eye=Model_eye.detectMultiScale(img3)\n",
    "        for ex,ey,ew,eh in eye:\n",
    "            cv2.rectangle(img,(x+ex,y+ey,ew,eh),(0,255,0),2)\n",
    "    cv2.imshow(\"wind\",img)\n",
    "    key=cv2.waitKey(50)\n",
    "    if key==ord('d'):\n",
    "        break\n",
    "cv2.destroyAllWindows()\n",
    "video.release\n",
    "\n"
   ]
  },
  {
   "cell_type": "code",
   "execution_count": null,
   "metadata": {},
   "outputs": [],
   "source": []
  },
  {
   "cell_type": "code",
   "execution_count": null,
   "metadata": {},
   "outputs": [],
   "source": []
  }
 ],
 "metadata": {
  "kernelspec": {
   "display_name": "Python 3",
   "language": "python",
   "name": "python3"
  },
  "language_info": {
   "codemirror_mode": {
    "name": "ipython",
    "version": 3
   },
   "file_extension": ".py",
   "mimetype": "text/x-python",
   "name": "python",
   "nbconvert_exporter": "python",
   "pygments_lexer": "ipython3",
   "version": "3.11.1"
  },
  "orig_nbformat": 4
 },
 "nbformat": 4,
 "nbformat_minor": 2
}
